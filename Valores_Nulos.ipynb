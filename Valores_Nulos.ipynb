{
  "nbformat": 4,
  "nbformat_minor": 0,
  "metadata": {
    "colab": {
      "provenance": [],
      "authorship_tag": "ABX9TyNZ4/XRUToF/z4YvntYnLr6",
      "include_colab_link": true
    },
    "kernelspec": {
      "name": "python3",
      "display_name": "Python 3"
    },
    "language_info": {
      "name": "python"
    }
  },
  "cells": [
    {
      "cell_type": "markdown",
      "metadata": {
        "id": "view-in-github",
        "colab_type": "text"
      },
      "source": [
        "<a href=\"https://colab.research.google.com/github/A01737866/Valores-Nulos/blob/main/Valores_Nulos.ipynb\" target=\"_parent\"><img src=\"https://colab.research.google.com/assets/colab-badge.svg\" alt=\"Open In Colab\"/></a>"
      ]
    },
    {
      "cell_type": "code",
      "execution_count": null,
      "metadata": {
        "id": "aPWuDhB1FeJl"
      },
      "outputs": [],
      "source": [
        "#Importamos librerías pandas, numpy y matplotlib respectivamente\n",
        "import pandas as pd\n",
        "import numpy as np\n",
        "import matplotlib.pyplot as plt"
      ]
    },
    {
      "cell_type": "code",
      "source": [
        "#Cargar archivo csv desde equipo\n",
        "from google.colab import files\n",
        "files.upload()"
      ],
      "metadata": {
        "id": "-hiRBMCjFix9"
      },
      "execution_count": null,
      "outputs": []
    },
    {
      "cell_type": "code",
      "source": [
        "#Carga desde un archivo .csv sin indice\n",
        "data = pd.read_csv(\"Ventas_totales.csv\")\n",
        "data.head(5)"
      ],
      "metadata": {
        "id": "TG7hTWgJFu4M"
      },
      "execution_count": null,
      "outputs": []
    },
    {
      "cell_type": "code",
      "source": [
        "#identificar valores nulos por columna\n",
        "valores_nulos = data.isnull().sum()\n",
        "valores_nulos"
      ],
      "metadata": {
        "id": "vMO0iH_WF7OS"
      },
      "execution_count": null,
      "outputs": []
    },
    {
      "cell_type": "markdown",
      "source": [
        "**Métodos de sustitución de valores nulos**"
      ],
      "metadata": {
        "id": "6NcMx6eWGdXZ"
      }
    },
    {
      "cell_type": "code",
      "source": [
        "#Realizamos una copia del dataframe\n",
        "data1 = data.copy()"
      ],
      "metadata": {
        "id": "kvgCG8rIGa0I"
      },
      "execution_count": null,
      "outputs": []
    },
    {
      "cell_type": "code",
      "source": [
        "#Sustituir valores nulos con promedio o media\n",
        "data1[\"salon_ventas\"] = data1[\"salon_ventas\"].fillna(round(data[\"salon_ventas\"].mean(),1))"
      ],
      "metadata": {
        "id": "Udc47k1eGsu9"
      },
      "execution_count": null,
      "outputs": []
    },
    {
      "cell_type": "code",
      "source": [
        "#Corroboramos valores nulos\n",
        "valores_nulos = data1.isnull().sum()\n",
        "valores_nulos"
      ],
      "metadata": {
        "id": "LmgEiFojG-Ya"
      },
      "execution_count": null,
      "outputs": []
    },
    {
      "cell_type": "code",
      "source": [
        "#Sustituir valores nulos con mediana\n",
        "data1[\"tarjetas_debito\"] = data1[\"tarjetas_debito\"].fillna(round(data[\"tarjetas_debito\"].median(),1))\n",
        "data1"
      ],
      "metadata": {
        "id": "DTozJk6xM7iP"
      },
      "execution_count": null,
      "outputs": []
    },
    {
      "cell_type": "code",
      "source": [
        "#Corroboramos valores nulos\n",
        "valores_nulos = data1.isnull().sum()\n",
        "valores_nulos"
      ],
      "metadata": {
        "id": "Q1iBcafRNiv_"
      },
      "execution_count": null,
      "outputs": []
    },
    {
      "cell_type": "code",
      "source": [
        "#Sustituir valores nulos por un valor numérico en concreto\n",
        "data1[\"tarjetas_credito\"] = data1[\"tarjetas_credito\"].fillna(9000000)\n",
        "data1"
      ],
      "metadata": {
        "id": "jp0m4uViN3eU"
      },
      "execution_count": null,
      "outputs": []
    },
    {
      "cell_type": "code",
      "source": [
        "#Corroboramos valores nulos\n",
        "valores_nulos = data1.isnull().sum()\n",
        "valores_nulos"
      ],
      "metadata": {
        "id": "1FHhQg_4OWcV"
      },
      "execution_count": null,
      "outputs": []
    },
    {
      "cell_type": "code",
      "source": [
        "#Sustituir valores nulos por un string en concreto\n",
        "data1[\"otros_medios\"] = data1[\"otros_medios\"].fillna(\"5238654.451\")"
      ],
      "metadata": {
        "id": "CFcUQOFxPTxz"
      },
      "execution_count": null,
      "outputs": []
    },
    {
      "cell_type": "code",
      "source": [
        "#Corroboramos valores nulos\n",
        "valores_nulos = data1.isnull().sum()\n",
        "valores_nulos"
      ],
      "metadata": {
        "id": "YQJL7esWPjFe"
      },
      "execution_count": null,
      "outputs": []
    },
    {
      "cell_type": "code",
      "source": [
        "#Sustituir valores nulos por valores no nulos hacia adelante \"forward fill\" (\"ffill\")\n",
        "data1[\"subtotal_ventas_alimentos_bebidas\"] = data1[\"subtotal_ventas_alimentos_bebidas\"].fillna(method = \"ffill\")"
      ],
      "metadata": {
        "id": "Al7pTpl0Q2TO"
      },
      "execution_count": null,
      "outputs": []
    },
    {
      "cell_type": "code",
      "source": [
        "#Corroboramos valores nulos\n",
        "valores_nulos = data1.isnull().sum()\n",
        "valores_nulos"
      ],
      "metadata": {
        "id": "VNBqB0UBRGt6"
      },
      "execution_count": null,
      "outputs": []
    },
    {
      "cell_type": "code",
      "source": [
        "#Sustituir valores nulos por valores no nulos hacia atrás \"backward fill\" (\"bfill\")\n",
        "data1[\"bebidas\"] = data1[\"bebidas\"].fillna(method = \"bfill\")"
      ],
      "metadata": {
        "id": "PybT2xbieaDy"
      },
      "execution_count": null,
      "outputs": []
    },
    {
      "cell_type": "code",
      "source": [
        "#Corroboramos valores nulos\n",
        "valores_nulos = data1.isnull().sum()\n",
        "valores_nulos"
      ],
      "metadata": {
        "id": "YdMnDil3erXk"
      },
      "execution_count": null,
      "outputs": []
    },
    {
      "cell_type": "code",
      "source": [
        "#Sustituir valores nulos con promedio o media\n",
        "data1[\"almacen\"] = data1[\"almacen\"].fillna(round(data[\"almacen\"].mean(),1))"
      ],
      "metadata": {
        "id": "QRiwnGqWeyUI"
      },
      "execution_count": null,
      "outputs": []
    },
    {
      "cell_type": "code",
      "source": [
        "#Corroboramos valores nulos\n",
        "valores_nulos = data1.isnull().sum()\n",
        "valores_nulos"
      ],
      "metadata": {
        "id": "9ARLB6ike6_U"
      },
      "execution_count": null,
      "outputs": []
    },
    {
      "cell_type": "code",
      "source": [
        "#Sustituir valores nulos con mediana\n",
        "data1[\"panaderia\"] = data1[\"panaderia\"].fillna(round(data[\"panaderia\"].median(),1))\n",
        "data1"
      ],
      "metadata": {
        "id": "Zf-Cy2OdfPir"
      },
      "execution_count": null,
      "outputs": []
    },
    {
      "cell_type": "code",
      "source": [
        "#Corroboramos valores nulos\n",
        "valores_nulos = data1.isnull().sum()\n",
        "valores_nulos"
      ],
      "metadata": {
        "id": "zH1mlRTNfaAO"
      },
      "execution_count": null,
      "outputs": []
    },
    {
      "cell_type": "code",
      "source": [
        "#Sustituir valores nulos por un valor numérico en concreto\n",
        "data1[\"lacteos\"] = data1[\"lacteos\"].fillna(15561032)\n",
        "data1"
      ],
      "metadata": {
        "id": "JRW4Dpgvfg64"
      },
      "execution_count": null,
      "outputs": []
    },
    {
      "cell_type": "code",
      "source": [
        "#Corroboramos valores nulos\n",
        "valores_nulos = data1.isnull().sum()\n",
        "valores_nulos"
      ],
      "metadata": {
        "id": "AVNNVzq6ftO7"
      },
      "execution_count": null,
      "outputs": []
    },
    {
      "cell_type": "code",
      "source": [
        "#Sustituir valores nulos por un string en concreto\n",
        "data1[\"carnes\"] = data1[\"carnes\"].fillna(\"4200513.124\")"
      ],
      "metadata": {
        "id": "LpCDgHgTfy22"
      },
      "execution_count": null,
      "outputs": []
    },
    {
      "cell_type": "code",
      "source": [
        "#Corroboramos valores nulos\n",
        "valores_nulos = data1.isnull().sum()\n",
        "valores_nulos"
      ],
      "metadata": {
        "id": "x8ZmElzqf9-B"
      },
      "execution_count": null,
      "outputs": []
    },
    {
      "cell_type": "code",
      "source": [
        "#Sustituir valores nulos por valores no nulos hacia adelante \"forward fill\" (\"ffill\")\n",
        "data1[\"verduleria_fruteria\"] = data1[\"verduleria_fruteria\"].fillna(method = \"ffill\")"
      ],
      "metadata": {
        "id": "9FEAJ99CgH_8"
      },
      "execution_count": null,
      "outputs": []
    },
    {
      "cell_type": "code",
      "source": [
        "#Corroboramos valores nulos\n",
        "valores_nulos = data1.isnull().sum()\n",
        "valores_nulos"
      ],
      "metadata": {
        "id": "K8KttTvqgPsH"
      },
      "execution_count": null,
      "outputs": []
    },
    {
      "cell_type": "code",
      "source": [
        "#Sustituir valores nulos por valores no nulos hacia atrás \"backward fill\" (\"bfill\")\n",
        "data1[\"alimentos_preparados_rotiseria\"] = data1[\"alimentos_preparados_rotiseria\"].fillna(method = \"bfill\")"
      ],
      "metadata": {
        "id": "VDkz379wgXRi"
      },
      "execution_count": null,
      "outputs": []
    },
    {
      "cell_type": "code",
      "source": [
        "#Corroboramos valores nulos\n",
        "valores_nulos = data1.isnull().sum()\n",
        "valores_nulos"
      ],
      "metadata": {
        "id": "C2uMjWMHgizR"
      },
      "execution_count": null,
      "outputs": []
    },
    {
      "cell_type": "code",
      "source": [
        "#Sustituir valores nulos con promedio o media\n",
        "data1[\"indumentaria_calzado_textiles_hogar\"] = data1[\"indumentaria_calzado_textiles_hogar\"].fillna(round(data[\"indumentaria_calzado_textiles_hogar\"].mean(),1))"
      ],
      "metadata": {
        "id": "0HtG9D-Mgpx7"
      },
      "execution_count": null,
      "outputs": []
    },
    {
      "cell_type": "code",
      "source": [
        "#Corroboramos valores nulos\n",
        "valores_nulos = data1.isnull().sum()\n",
        "valores_nulos"
      ],
      "metadata": {
        "id": "_rr5C2-Tg2ze"
      },
      "execution_count": null,
      "outputs": []
    },
    {
      "cell_type": "code",
      "source": [
        "#Sustituir valores nulos con mediana\n",
        "data1[\"electronicos_articulos_hogar\"] = data1[\"electronicos_articulos_hogar\"].fillna(round(data[\"electronicos_articulos_hogar\"].median(),1))"
      ],
      "metadata": {
        "id": "h3VnlXiXg6Zb"
      },
      "execution_count": null,
      "outputs": []
    },
    {
      "cell_type": "code",
      "source": [
        "#Corroboramos valores nulos\n",
        "valores_nulos = data1.isnull().sum()\n",
        "valores_nulos"
      ],
      "metadata": {
        "id": "_CSHOIo_hRcm"
      },
      "execution_count": null,
      "outputs": []
    },
    {
      "cell_type": "code",
      "source": [
        "#Sustituir valores nulos por valores no nulos hacia adelante \"forward fill\" (\"ffill\")\n",
        "data1[\"otros\"] = data1[\"otros\"].fillna(method = \"ffill\")"
      ],
      "metadata": {
        "id": "ytSpHg4PhWcY"
      },
      "execution_count": null,
      "outputs": []
    },
    {
      "cell_type": "code",
      "source": [
        "#Corroboramos valores nulos\n",
        "valores_nulos = data1.isnull().sum()\n",
        "valores_nulos"
      ],
      "metadata": {
        "id": "Glc14iH0hbzW"
      },
      "execution_count": null,
      "outputs": []
    },
    {
      "cell_type": "code",
      "source": [
        "#Corroboramos valores nulos en todo el dataframe\n",
        "valores_nulos = data1.isnull().sum().sum()\n",
        "valores_nulos"
      ],
      "metadata": {
        "id": "TpZ3241PhmHw"
      },
      "execution_count": null,
      "outputs": []
    },
    {
      "cell_type": "markdown",
      "source": [
        "**Convertir DataSet sin nulos a CSV**"
      ],
      "metadata": {
        "id": "p6WICnFchxyT"
      }
    },
    {
      "cell_type": "code",
      "source": [
        "#Convertir DataFrame a CSV\n",
        "data1.to_csv(\"ventas_sin_nulos.csv\")"
      ],
      "metadata": {
        "id": "ORGYjtguh0xw"
      },
      "execution_count": null,
      "outputs": []
    },
    {
      "cell_type": "code",
      "source": [
        "#Descargar archivo filtrado en csv\n",
        "from google.colab import files\n",
        "\n",
        "files.download(\"ventas_sin_nulos.csv\")"
      ],
      "metadata": {
        "colab": {
          "base_uri": "https://localhost:8080/",
          "height": 17
        },
        "id": "ets83YRgh6uO",
        "outputId": "a081d787-3aff-4cd3-e304-e57e5081afff"
      },
      "execution_count": null,
      "outputs": [
        {
          "output_type": "display_data",
          "data": {
            "text/plain": [
              "<IPython.core.display.Javascript object>"
            ],
            "application/javascript": [
              "\n",
              "    async function download(id, filename, size) {\n",
              "      if (!google.colab.kernel.accessAllowed) {\n",
              "        return;\n",
              "      }\n",
              "      const div = document.createElement('div');\n",
              "      const label = document.createElement('label');\n",
              "      label.textContent = `Downloading \"${filename}\": `;\n",
              "      div.appendChild(label);\n",
              "      const progress = document.createElement('progress');\n",
              "      progress.max = size;\n",
              "      div.appendChild(progress);\n",
              "      document.body.appendChild(div);\n",
              "\n",
              "      const buffers = [];\n",
              "      let downloaded = 0;\n",
              "\n",
              "      const channel = await google.colab.kernel.comms.open(id);\n",
              "      // Send a message to notify the kernel that we're ready.\n",
              "      channel.send({})\n",
              "\n",
              "      for await (const message of channel.messages) {\n",
              "        // Send a message to notify the kernel that we're ready.\n",
              "        channel.send({})\n",
              "        if (message.buffers) {\n",
              "          for (const buffer of message.buffers) {\n",
              "            buffers.push(buffer);\n",
              "            downloaded += buffer.byteLength;\n",
              "            progress.value = downloaded;\n",
              "          }\n",
              "        }\n",
              "      }\n",
              "      const blob = new Blob(buffers, {type: 'application/binary'});\n",
              "      const a = document.createElement('a');\n",
              "      a.href = window.URL.createObjectURL(blob);\n",
              "      a.download = filename;\n",
              "      div.appendChild(a);\n",
              "      a.click();\n",
              "      div.remove();\n",
              "    }\n",
              "  "
            ]
          },
          "metadata": {}
        },
        {
          "output_type": "display_data",
          "data": {
            "text/plain": [
              "<IPython.core.display.Javascript object>"
            ],
            "application/javascript": [
              "download(\"download_dba94253-b45c-45ba-a783-a3e384e359e2\", \"ventas_sin_nulos.csv\", 18604)"
            ]
          },
          "metadata": {}
        }
      ]
    }
  ]
}